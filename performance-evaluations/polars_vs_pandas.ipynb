{
 "cells": [
  {
   "cell_type": "code",
   "execution_count": 4,
   "metadata": {},
   "outputs": [],
   "source": [
    "import polars as pl\n",
    "import pandas as pd\n",
    "import numpy as np"
   ]
  },
  {
   "cell_type": "code",
   "execution_count": 15,
   "metadata": {},
   "outputs": [],
   "source": [
    "files = [f\"/media/HDD01/mbck/dataSet/preprocessing/window_{i}00/info\" for i in [6,9,12,15,18]]\n",
    "\n",
    "for file in files:\n",
    "    pl.from_pandas(pd.read_feather(file + \".ft\")).write_ipc(file + \".arrow\")"
   ]
  },
  {
   "cell_type": "code",
   "execution_count": 12,
   "metadata": {},
   "outputs": [
    {
     "name": "stdout",
     "output_type": "stream",
     "text": [
      "515 ms ± 25.1 ms per loop (mean ± std. dev. of 7 runs, 1 loop each)\n"
     ]
    }
   ],
   "source": [
    "%timeit pd.read_feather(file+ \".ft\")"
   ]
  },
  {
   "cell_type": "code",
   "execution_count": 13,
   "metadata": {},
   "outputs": [
    {
     "name": "stdout",
     "output_type": "stream",
     "text": [
      "161 µs ± 5.74 µs per loop (mean ± std. dev. of 7 runs, 10,000 loops each)\n"
     ]
    }
   ],
   "source": [
    "%timeit pl.read_ipc(file + \".arrow\")"
   ]
  },
  {
   "cell_type": "markdown",
   "metadata": {},
   "source": [
    "checkout joining"
   ]
  },
  {
   "cell_type": "code",
   "execution_count": 2,
   "metadata": {},
   "outputs": [],
   "source": [
    "pl_preprocessing_info = pl.read_ipc(\"/media/HDD01/mbck/dataSet/preprocessing/window_300/info.arrow\")\n",
    "pd_preprocessing_info = pd.read_feather(\"/media/HDD01/mbck/dataSet/preprocessing/window_300/info.ft\")\n",
    "\n",
    "pl_base_info = pl.read_ipc(\"/media/HDD01/mbck/dataSet/dataset_info/V7.arrow\")\n",
    "pd_base_info = pd.read_feather(\"/media/HDD01/mbck/dataSet/dataset_info/V7.arrow\")"
   ]
  },
  {
   "cell_type": "code",
   "execution_count": 5,
   "metadata": {},
   "outputs": [],
   "source": [
    "preloaded_data ={k:np.array(v) for k, v in pl.read_ipc(\"/media/HDD01/mbck/dataSet/raw/total_dataset.arrow\").iter_rows()}"
   ]
  },
  {
   "cell_type": "code",
   "execution_count": 6,
   "metadata": {},
   "outputs": [],
   "source": [
    "merged =  pl_preprocessing_info.join(pl_base_info, left_on=\"gid\", right_on=\"gid\", how=\"left\")"
   ]
  },
  {
   "cell_type": "code",
   "execution_count": 7,
   "metadata": {},
   "outputs": [],
   "source": [
    "import numpy as np\n",
    "\n",
    "data_values = np.array(list(preloaded_data.values()), dtype=object)\n",
    "data_gid_indexe = {k:i for i, k in enumerate(preloaded_data.keys())}"
   ]
  },
  {
   "cell_type": "code",
   "execution_count": 8,
   "metadata": {},
   "outputs": [
    {
     "name": "stderr",
     "output_type": "stream",
     "text": [
      "/tmp/ipykernel_275712/2943937819.py:1: DeprecationWarning: `apply` is deprecated. It has been renamed to `map_elements`.\n",
      "  merged.with_columns([pl.col(\"gid\").apply(lambda x: data_gid_indexe[x])])\n",
      "/tmp/ipykernel_275712/2943937819.py:1: PolarsInefficientMapWarning: \n",
      "Expr.map_elements is significantly slower than the native expressions API.\n",
      "Only use if you absolutely CANNOT implement your logic otherwise.\n",
      "Replace this expression...\n",
      "  - pl.col(\"gid\").map_elements(lambda x: ...)\n",
      "with this one instead:\n",
      "  + pl.col(\"gid\").replace(data_gid_indexe)\n",
      "\n",
      "  merged.with_columns([pl.col(\"gid\").apply(lambda x: data_gid_indexe[x])])\n"
     ]
    },
    {
     "data": {
      "text/html": [
       "<div><style>\n",
       ".dataframe > thead > tr,\n",
       ".dataframe > tbody > tr {\n",
       "  text-align: right;\n",
       "  white-space: pre-wrap;\n",
       "}\n",
       "</style>\n",
       "<small>shape: (44_380_048, 6)</small><table border=\"1\" class=\"dataframe\"><thead><tr><th>gid</th><th>uuid</th><th>tags</th><th>label</th><th>relevant</th><th>split</th></tr><tr><td>i64</td><td>str</td><td>struct[1]</td><td>str</td><td>bool</td><td>str</td></tr></thead><tbody><tr><td>0</td><td>&quot;abcac881-acdd-…</td><td>{4500}</td><td>&quot;test_mission&quot;</td><td>true</td><td>&quot;train&quot;</td></tr><tr><td>0</td><td>&quot;cbae87b7-8ee4-…</td><td>{4501}</td><td>&quot;test_mission&quot;</td><td>true</td><td>&quot;train&quot;</td></tr><tr><td>0</td><td>&quot;78283b53-1744-…</td><td>{4502}</td><td>&quot;test_mission&quot;</td><td>true</td><td>&quot;train&quot;</td></tr><tr><td>0</td><td>&quot;2cc844ec-1f75-…</td><td>{4503}</td><td>&quot;test_mission&quot;</td><td>true</td><td>&quot;train&quot;</td></tr><tr><td>0</td><td>&quot;5eb68de8-752a-…</td><td>{4504}</td><td>&quot;test_mission&quot;</td><td>true</td><td>&quot;train&quot;</td></tr><tr><td>0</td><td>&quot;1c19a831-951f-…</td><td>{4505}</td><td>&quot;test_mission&quot;</td><td>true</td><td>&quot;train&quot;</td></tr><tr><td>0</td><td>&quot;8c263ff5-d3e5-…</td><td>{4506}</td><td>&quot;test_mission&quot;</td><td>true</td><td>&quot;train&quot;</td></tr><tr><td>0</td><td>&quot;a17d8d03-e851-…</td><td>{4507}</td><td>&quot;test_mission&quot;</td><td>true</td><td>&quot;train&quot;</td></tr><tr><td>0</td><td>&quot;dd4a3fe5-9531-…</td><td>{4508}</td><td>&quot;test_mission&quot;</td><td>true</td><td>&quot;train&quot;</td></tr><tr><td>0</td><td>&quot;e6f6e0e2-2717-…</td><td>{4509}</td><td>&quot;test_mission&quot;</td><td>true</td><td>&quot;train&quot;</td></tr><tr><td>0</td><td>&quot;6e74d2f8-1d5a-…</td><td>{4510}</td><td>&quot;test_mission&quot;</td><td>true</td><td>&quot;train&quot;</td></tr><tr><td>0</td><td>&quot;ac5f9dc1-1763-…</td><td>{4511}</td><td>&quot;test_mission&quot;</td><td>true</td><td>&quot;train&quot;</td></tr><tr><td>&hellip;</td><td>&hellip;</td><td>&hellip;</td><td>&hellip;</td><td>&hellip;</td><td>&hellip;</td></tr><tr><td>1990</td><td>&quot;b09565de-0e21-…</td><td>{144737}</td><td>&quot;real_mission&quot;</td><td>true</td><td>&quot;train&quot;</td></tr><tr><td>1990</td><td>&quot;0a239f7d-268d-…</td><td>{144738}</td><td>&quot;real_mission&quot;</td><td>true</td><td>&quot;train&quot;</td></tr><tr><td>1990</td><td>&quot;00648221-7dc0-…</td><td>{144739}</td><td>&quot;real_mission&quot;</td><td>true</td><td>&quot;train&quot;</td></tr><tr><td>1990</td><td>&quot;7bbb4c5e-c6f0-…</td><td>{144740}</td><td>&quot;real_mission&quot;</td><td>true</td><td>&quot;train&quot;</td></tr><tr><td>1990</td><td>&quot;eea6bb5f-72a4-…</td><td>{144741}</td><td>&quot;real_mission&quot;</td><td>true</td><td>&quot;train&quot;</td></tr><tr><td>1990</td><td>&quot;7dcfd915-e2d8-…</td><td>{144742}</td><td>&quot;real_mission&quot;</td><td>true</td><td>&quot;train&quot;</td></tr><tr><td>1990</td><td>&quot;db022344-c379-…</td><td>{144743}</td><td>&quot;real_mission&quot;</td><td>true</td><td>&quot;train&quot;</td></tr><tr><td>1990</td><td>&quot;fca6a56f-7f17-…</td><td>{144744}</td><td>&quot;real_mission&quot;</td><td>true</td><td>&quot;train&quot;</td></tr><tr><td>1990</td><td>&quot;4cbfc29f-ed36-…</td><td>{144745}</td><td>&quot;real_mission&quot;</td><td>true</td><td>&quot;train&quot;</td></tr><tr><td>1990</td><td>&quot;14f8263e-2950-…</td><td>{144746}</td><td>&quot;real_mission&quot;</td><td>true</td><td>&quot;train&quot;</td></tr><tr><td>1990</td><td>&quot;0b3e0231-96f9-…</td><td>{144747}</td><td>&quot;real_mission&quot;</td><td>true</td><td>&quot;train&quot;</td></tr><tr><td>1990</td><td>&quot;1b9bd029-7913-…</td><td>{144748}</td><td>&quot;real_mission&quot;</td><td>true</td><td>&quot;train&quot;</td></tr></tbody></table></div>"
      ],
      "text/plain": [
       "shape: (44_380_048, 6)\n",
       "┌──────┬───────────────────────────────────┬───────────┬──────────────┬──────────┬───────┐\n",
       "│ gid  ┆ uuid                              ┆ tags      ┆ label        ┆ relevant ┆ split │\n",
       "│ ---  ┆ ---                               ┆ ---       ┆ ---          ┆ ---      ┆ ---   │\n",
       "│ i64  ┆ str                               ┆ struct[1] ┆ str          ┆ bool     ┆ str   │\n",
       "╞══════╪═══════════════════════════════════╪═══════════╪══════════════╪══════════╪═══════╡\n",
       "│ 0    ┆ abcac881-acdd-4993-92fb-d9d8ded8… ┆ {4500}    ┆ test_mission ┆ true     ┆ train │\n",
       "│ 0    ┆ cbae87b7-8ee4-4f43-9ba7-e0242f34… ┆ {4501}    ┆ test_mission ┆ true     ┆ train │\n",
       "│ 0    ┆ 78283b53-1744-4f74-9b12-ecc12507… ┆ {4502}    ┆ test_mission ┆ true     ┆ train │\n",
       "│ 0    ┆ 2cc844ec-1f75-430d-b332-8f25e0ed… ┆ {4503}    ┆ test_mission ┆ true     ┆ train │\n",
       "│ 0    ┆ 5eb68de8-752a-48a3-9e9b-54d7776f… ┆ {4504}    ┆ test_mission ┆ true     ┆ train │\n",
       "│ …    ┆ …                                 ┆ …         ┆ …            ┆ …        ┆ …     │\n",
       "│ 1990 ┆ fca6a56f-7f17-4c7e-9736-f54e5950… ┆ {144744}  ┆ real_mission ┆ true     ┆ train │\n",
       "│ 1990 ┆ 4cbfc29f-ed36-47e6-b3a0-5c078f50… ┆ {144745}  ┆ real_mission ┆ true     ┆ train │\n",
       "│ 1990 ┆ 14f8263e-2950-4b07-8f58-a21fabb9… ┆ {144746}  ┆ real_mission ┆ true     ┆ train │\n",
       "│ 1990 ┆ 0b3e0231-96f9-4b4b-9b0b-536c5341… ┆ {144747}  ┆ real_mission ┆ true     ┆ train │\n",
       "│ 1990 ┆ 1b9bd029-7913-415f-bc82-0b7b3f9a… ┆ {144748}  ┆ real_mission ┆ true     ┆ train │\n",
       "└──────┴───────────────────────────────────┴───────────┴──────────────┴──────────┴───────┘"
      ]
     },
     "execution_count": 8,
     "metadata": {},
     "output_type": "execute_result"
    }
   ],
   "source": [
    "merged.with_columns([pl.col(\"gid\").apply(lambda x: data_gid_indexe[x])])"
   ]
  },
  {
   "cell_type": "code",
   "execution_count": 25,
   "metadata": {},
   "outputs": [
    {
     "name": "stdout",
     "output_type": "stream",
     "text": [
      "41.8 ns ± 0.331 ns per loop (mean ± std. dev. of 7 runs, 10,000,000 loops each)\n"
     ]
    }
   ],
   "source": [
    "%timeit data_values[5]"
   ]
  },
  {
   "cell_type": "code",
   "execution_count": 61,
   "metadata": {},
   "outputs": [
    {
     "name": "stdout",
     "output_type": "stream",
     "text": [
      "856 ms ± 25.7 ms per loop (mean ± std. dev. of 7 runs, 1 loop each)\n"
     ]
    }
   ],
   "source": [
    "%timeit pl_preprocessing_info.join(pl_base_info, left_on=\"gid\", right_on=\"gid\", how=\"left\")"
   ]
  },
  {
   "cell_type": "code",
   "execution_count": 62,
   "metadata": {},
   "outputs": [
    {
     "name": "stdout",
     "output_type": "stream",
     "text": [
      "6.41 s ± 110 ms per loop (mean ± std. dev. of 7 runs, 1 loop each)\n"
     ]
    }
   ],
   "source": [
    "%timeit pd_preprocessing_info.merge(pd_base_info, left_on=\"gid\", right_on=\"gid\", how=\"left\")"
   ]
  },
  {
   "cell_type": "code",
   "execution_count": 3,
   "metadata": {},
   "outputs": [],
   "source": [
    "pl_df = pl_preprocessing_info.join(pl_base_info, left_on=\"gid\", right_on=\"gid\", how=\"left\")"
   ]
  },
  {
   "cell_type": "code",
   "execution_count": 60,
   "metadata": {},
   "outputs": [],
   "source": [
    "pd_df = pd_preprocessing_info.merge(pd_base_info, left_on=\"gid\", right_on=\"gid\", how=\"left\")"
   ]
  },
  {
   "cell_type": "markdown",
   "metadata": {},
   "source": [
    "acces time for one element"
   ]
  },
  {
   "cell_type": "code",
   "execution_count": 30,
   "metadata": {},
   "outputs": [],
   "source": [
    "element = \"2dc0c98c-8f4c-4e08-af00-220a6bb51217\""
   ]
  },
  {
   "cell_type": "code",
   "execution_count": 63,
   "metadata": {},
   "outputs": [
    {
     "name": "stdout",
     "output_type": "stream",
     "text": [
      "49.8 ms ± 598 µs per loop (mean ± std. dev. of 7 runs, 10 loops each)\n"
     ]
    }
   ],
   "source": [
    "%timeit pl_df.filter(pl.any_horizontal(pl.col('uuid') == element))"
   ]
  },
  {
   "cell_type": "code",
   "execution_count": 64,
   "metadata": {},
   "outputs": [
    {
     "name": "stdout",
     "output_type": "stream",
     "text": [
      "1.77 s ± 5.07 ms per loop (mean ± std. dev. of 7 runs, 1 loop each)\n"
     ]
    }
   ],
   "source": [
    "%timeit pd_df[pd_df[\"uuid\"] == element]"
   ]
  },
  {
   "cell_type": "markdown",
   "metadata": {},
   "source": [
    "iloc/select by index"
   ]
  },
  {
   "cell_type": "code",
   "execution_count": 28,
   "metadata": {},
   "outputs": [],
   "source": [
    "from random import randint\n",
    "rand_max = pl_df.shape[0]"
   ]
  },
  {
   "cell_type": "code",
   "execution_count": 105,
   "metadata": {},
   "outputs": [
    {
     "data": {
      "text/plain": [
       "array([['dc15c7e8-536c-4bb6-8d65-e7983910e747',\n",
       "        'aac9d83e-88a3-4fd0-b3a2-261bccdfc505', {'timestamp': 25414},\n",
       "        'real_mission', True, 'validation']], dtype=object)"
      ]
     },
     "execution_count": 105,
     "metadata": {},
     "output_type": "execute_result"
    }
   ],
   "source": [
    "pl_df[randint(0, rand_max)].to_numpy()"
   ]
  },
  {
   "cell_type": "code",
   "execution_count": 69,
   "metadata": {},
   "outputs": [
    {
     "name": "stdout",
     "output_type": "stream",
     "text": [
      "2.67 µs ± 8.43 ns per loop (mean ± std. dev. of 7 runs, 100,000 loops each)\n"
     ]
    }
   ],
   "source": [
    "%timeit pl_df[randint(0, rand_max)]"
   ]
  },
  {
   "cell_type": "code",
   "execution_count": 70,
   "metadata": {},
   "outputs": [
    {
     "name": "stdout",
     "output_type": "stream",
     "text": [
      "24.8 µs ± 301 ns per loop (mean ± std. dev. of 7 runs, 10,000 loops each)\n"
     ]
    }
   ],
   "source": [
    "%timeit pd_df.iloc[randint(0, rand_max)]"
   ]
  },
  {
   "cell_type": "markdown",
   "metadata": {},
   "source": [
    "check filtering"
   ]
  },
  {
   "cell_type": "code",
   "execution_count": 72,
   "metadata": {},
   "outputs": [],
   "source": [
    "base_filter = pl.col(\"label\").is_in([\"test_mission\", \"real_mission\"])"
   ]
  },
  {
   "cell_type": "code",
   "execution_count": 74,
   "metadata": {},
   "outputs": [
    {
     "name": "stdout",
     "output_type": "stream",
     "text": [
      "386 ms ± 9.68 ms per loop (mean ± std. dev. of 7 runs, 1 loop each)\n"
     ]
    }
   ],
   "source": [
    "%timeit pl_df.filter(pl.col(\"relevant\") & base_filter)"
   ]
  },
  {
   "cell_type": "code",
   "execution_count": 76,
   "metadata": {},
   "outputs": [
    {
     "name": "stdout",
     "output_type": "stream",
     "text": [
      "4.33 s ± 10.2 ms per loop (mean ± std. dev. of 7 runs, 1 loop each)\n"
     ]
    }
   ],
   "source": [
    "%timeit pd_df.query(\" and \".join([\"relevant\", \"label in ['test_mission', 'real_mission']\"]))"
   ]
  },
  {
   "cell_type": "markdown",
   "metadata": {},
   "source": [
    "group by"
   ]
  },
  {
   "cell_type": "code",
   "execution_count": 84,
   "metadata": {},
   "outputs": [
    {
     "name": "stderr",
     "output_type": "stream",
     "text": [
      "<magic-timeit>:1: DeprecationWarning: `group_by` iteration will change to always return group identifiers as tuples. Pass `by` as a list to silence this warning, e.g. `group_by(['split'])`.\n"
     ]
    },
    {
     "name": "stdout",
     "output_type": "stream",
     "text": [
      "1.59 s ± 59.8 ms per loop (mean ± std. dev. of 7 runs, 1 loop each)\n"
     ]
    }
   ],
   "source": [
    "%timeit dict(tuple(pl_df.group_by(\"split\")))"
   ]
  },
  {
   "cell_type": "code",
   "execution_count": 83,
   "metadata": {},
   "outputs": [
    {
     "name": "stdout",
     "output_type": "stream",
     "text": [
      "5.74 s ± 142 ms per loop (mean ± std. dev. of 7 runs, 1 loop each)\n"
     ]
    }
   ],
   "source": [
    "%timeit dict(tuple(pd_df.groupby(\"split\")))"
   ]
  },
  {
   "cell_type": "code",
   "execution_count": null,
   "metadata": {},
   "outputs": [],
   "source": []
  }
 ],
 "metadata": {
  "kernelspec": {
   "display_name": "Python 3",
   "language": "python",
   "name": "python3"
  },
  "language_info": {
   "codemirror_mode": {
    "name": "ipython",
    "version": 3
   },
   "file_extension": ".py",
   "mimetype": "text/x-python",
   "name": "python",
   "nbconvert_exporter": "python",
   "pygments_lexer": "ipython3",
   "version": "3.10.13"
  }
 },
 "nbformat": 4,
 "nbformat_minor": 2
}
